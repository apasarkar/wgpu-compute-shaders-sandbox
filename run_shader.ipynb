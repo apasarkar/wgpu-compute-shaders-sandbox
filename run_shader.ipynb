{
 "cells": [
  {
   "cell_type": "code",
   "execution_count": 1,
   "id": "abdf5bf3-1112-47a9-9cde-e8366349d599",
   "metadata": {},
   "outputs": [],
   "source": [
    "import numpy as np\n",
    "\n",
    "import wgpu\n",
    "from wgpu.utils.compute import compute_with_buffers"
   ]
  },
  {
   "cell_type": "code",
   "execution_count": 2,
   "id": "971b68c0-3208-4ed0-a68d-4eee0a5d7d9a",
   "metadata": {},
   "outputs": [],
   "source": [
    "def read_shader():\n",
    "    return open(\"./qr.wgsl\").read()"
   ]
  },
  {
   "cell_type": "code",
   "execution_count": 3,
   "id": "f810ba6d-65b5-425a-8b88-677d38ca92d2",
   "metadata": {},
   "outputs": [],
   "source": [
    "dtype_mapping = {\n",
    "    np.int8: \"b\",\n",
    "    np.int16: \"h\",\n",
    "    np.int32: \"i\",\n",
    "    np.float16: \"e\",\n",
    "    np.float32: \"f\",\n",
    "}"
   ]
  },
  {
   "cell_type": "code",
   "execution_count": 21,
   "id": "03824665-c4b2-491c-8b71-727b40d3dfa3",
   "metadata": {},
   "outputs": [],
   "source": [
    "a = np.random.rand(5, 5).astype(np.float32)"
   ]
  },
  {
   "cell_type": "code",
   "execution_count": 22,
   "id": "720a85cc-d119-4989-a075-3a7a8584e297",
   "metadata": {},
   "outputs": [
    {
     "data": {
      "text/plain": [
       "array([[0.741042  , 0.92858607, 0.25000572, 0.9626224 , 0.32335472],\n",
       "       [0.7971966 , 0.2737183 , 0.76534456, 0.4711124 , 0.5695381 ],\n",
       "       [0.4018564 , 0.43775922, 0.9475955 , 0.83158445, 0.24838237],\n",
       "       [0.31866008, 0.56678677, 0.6167728 , 0.29753003, 0.22332627],\n",
       "       [0.586839  , 0.7422466 , 0.16003719, 0.774006  , 0.73952335]],\n",
       "      dtype=float32)"
      ]
     },
     "execution_count": 22,
     "metadata": {},
     "output_type": "execute_result"
    }
   ],
   "source": [
    "a"
   ]
  },
  {
   "cell_type": "code",
   "execution_count": 24,
   "id": "4985ce46-d706-405c-bbd3-cad5907a253d",
   "metadata": {},
   "outputs": [
    {
     "data": {
      "text/plain": [
       "array([0.741042  , 0.92858607, 0.25000572, 0.9626224 , 0.32335472],\n",
       "      dtype=float32)"
      ]
     },
     "execution_count": 24,
     "metadata": {},
     "output_type": "execute_result"
    }
   ],
   "source": [
    "a.ravel()[0:5]"
   ]
  },
  {
   "cell_type": "code",
   "execution_count": 40,
   "id": "3206edaa-27fc-4f07-8c28-f8fc5f90ecc6",
   "metadata": {},
   "outputs": [
    {
     "data": {
      "text/plain": [
       "array([1.5827565 , 1.3573935 , 1.4157279 , 0.97036016, 1.4376725 ],\n",
       "      dtype=float32)"
      ]
     },
     "execution_count": 40,
     "metadata": {},
     "output_type": "execute_result"
    }
   ],
   "source": [
    "n = 1\n",
    "\n",
    "# out_shape = a.shape\n",
    "out_shape = (5,)\n",
    "out = compute_with_buffers(\n",
    "    input_arrays={0: a},\n",
    "    output_arrays={1: (*out_shape, dtype_mapping[np.float32])},\n",
    "    shader=read_shader(),\n",
    "    n=n\n",
    ")\n",
    "\n",
    "shader_out = np.frombuffer(out[1], dtype=np.float32)\n",
    "shader_out"
   ]
  },
  {
   "cell_type": "code",
   "execution_count": 42,
   "id": "d34a46d2-1940-4c0f-93ab-c1f1c885894f",
   "metadata": {},
   "outputs": [
    {
     "data": {
      "text/plain": [
       "array([1.5827565 , 1.3573935 , 1.4157279 , 0.97036016, 1.4376725 ],\n",
       "      dtype=float32)"
      ]
     },
     "execution_count": 42,
     "metadata": {},
     "output_type": "execute_result"
    }
   ],
   "source": [
    "np.linalg.norm(a, ord=2, axis=1)"
   ]
  },
  {
   "cell_type": "code",
   "execution_count": 41,
   "id": "f71937e6-2116-4da6-840c-be39b9a82ef2",
   "metadata": {},
   "outputs": [
    {
     "data": {
      "text/plain": [
       "array([ True,  True,  True,  True,  True])"
      ]
     },
     "execution_count": 41,
     "metadata": {},
     "output_type": "execute_result"
    }
   ],
   "source": [
    "shader_out == np.linalg.norm(a, ord=2, axis=1)"
   ]
  },
  {
   "cell_type": "code",
   "execution_count": null,
   "id": "e25a968e-4733-4e2c-b216-0ee208cbc4c1",
   "metadata": {},
   "outputs": [],
   "source": []
  }
 ],
 "metadata": {
  "kernelspec": {
   "display_name": "Python 3 (ipykernel)",
   "language": "python",
   "name": "python3"
  },
  "language_info": {
   "codemirror_mode": {
    "name": "ipython",
    "version": 3
   },
   "file_extension": ".py",
   "mimetype": "text/x-python",
   "name": "python",
   "nbconvert_exporter": "python",
   "pygments_lexer": "ipython3",
   "version": "3.11.3"
  }
 },
 "nbformat": 4,
 "nbformat_minor": 5
}
