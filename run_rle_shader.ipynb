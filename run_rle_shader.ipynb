{
 "cells": [
  {
   "cell_type": "code",
   "execution_count": 1,
   "id": "ea30c55d-a89c-4fed-9304-72ff2be13315",
   "metadata": {},
   "outputs": [],
   "source": [
    "import numpy as np\n",
    "\n",
    "import wgpu\n",
    "from wgpu.utils.compute import compute_with_buffers\n",
    "%load_ext line_profiler"
   ]
  },
  {
   "cell_type": "code",
   "execution_count": 2,
   "id": "16bae46c-c466-4ae7-8077-5207a0e7cfa5",
   "metadata": {},
   "outputs": [],
   "source": [
    "data_file = np.load(\"dct_data_jul11.npz\")\n",
    "dct = data_file['dct']\n",
    "# mask = dct != 0\n",
    "# dct -= np.amin(dct)\n",
    "# dct *= mask"
   ]
  },
  {
   "cell_type": "code",
   "execution_count": 3,
   "id": "73e0bdb2-9df0-4e56-a26b-468e792fac41",
   "metadata": {},
   "outputs": [
    {
     "data": {
      "text/plain": [
       "array([[244,  16,   9,   7,  -1,   0,   0,   0],\n",
       "       [-64, -16,  20,   2,   2,   0,   0,   0],\n",
       "       [-39,   1,   5,   2,   0,   0,   0,   0],\n",
       "       [ -7,   0,   2,   0,   0,   0,   0,   0],\n",
       "       [ -3,   0,   1,   0,   0,   0,   0,   0],\n",
       "       [ -1,   0,   0,   0,   0,   0,   0,   0],\n",
       "       [ -1,   0,   0,   0,   0,   0,   0,   0],\n",
       "       [  0,   0,   0,   0,   0,   0,   0,   0]], dtype=int16)"
      ]
     },
     "execution_count": 3,
     "metadata": {},
     "output_type": "execute_result"
    }
   ],
   "source": [
    "dct[:8, :8]"
   ]
  },
  {
   "cell_type": "code",
   "execution_count": 4,
   "id": "b9bd7ad1-635d-446b-9af9-5774ff99bab9",
   "metadata": {},
   "outputs": [],
   "source": [
    "def read_rle_shader_preview():\n",
    "    return open(\"./rle_preview.wgsl\").read()\n",
    "\n",
    "def read_rle_shader():\n",
    "    return open(\"./rle.wgsl\").read()\n",
    "\n",
    "def read_cumulative_sum_shader():\n",
    "    return open(\"./cumulative_sum.wgsl\").read()\n",
    "\n",
    "rle_preview = read_rle_shader_preview()\n",
    "rle_full = read_rle_shader()\n",
    "\n",
    "cumsum_shader = read_cumulative_sum_shader()"
   ]
  },
  {
   "cell_type": "code",
   "execution_count": 5,
   "id": "c836574b-3627-48ed-b86d-b45665d6de3f",
   "metadata": {},
   "outputs": [],
   "source": [
    "\n",
    "# def generate_basis():\n",
    "zigzag = np.array(\n",
    "    [\n",
    "        [0, 0],\n",
    "        [0, 1],\n",
    "        [1, 0],\n",
    "        [2, 0],\n",
    "        [1, 1],\n",
    "        [0, 2],\n",
    "        [0, 3],\n",
    "        [1, 2],\n",
    "        [2, 1],\n",
    "        [3, 0],\n",
    "        [4, 0],\n",
    "        [3, 1],\n",
    "        [2, 2],\n",
    "        [1, 3],\n",
    "        [0, 4],\n",
    "        [0, 5],\n",
    "        [1, 4],\n",
    "        [2, 3],\n",
    "        [3, 2],\n",
    "        [4, 1],\n",
    "        [5, 0],\n",
    "        [6, 0],\n",
    "        [5, 1],\n",
    "        [4, 2],\n",
    "        [3, 3],\n",
    "        [2, 4],\n",
    "        [1, 5],\n",
    "        [0, 6],\n",
    "        [0, 7],\n",
    "        [1, 6],\n",
    "        [2, 5],\n",
    "        [3, 4],\n",
    "        [4, 3],\n",
    "        [5, 2],\n",
    "        [6, 1],\n",
    "        [7, 0],\n",
    "        [7, 1],\n",
    "        [6, 2],\n",
    "        [5, 3],\n",
    "        [4, 4],\n",
    "        [3, 5],\n",
    "        [2, 6],\n",
    "        [1, 7],\n",
    "        [2, 7],\n",
    "        [3, 6],\n",
    "        [4, 5],\n",
    "        [5, 4],\n",
    "        [6, 3],\n",
    "        [7, 2],\n",
    "        [7, 3],\n",
    "        [6, 4],\n",
    "        [5, 5],\n",
    "        [4, 6],\n",
    "        [3, 7],\n",
    "        [4, 7],\n",
    "        [5, 6],\n",
    "        [6, 5],\n",
    "        [7, 4],\n",
    "        [7, 5],\n",
    "        [6, 6],\n",
    "        [5, 7],\n",
    "        [6, 7],\n",
    "        [7, 6],\n",
    "        [7, 7],\n",
    "    ]\n",
    ")\n",
    "zig_dim1 = zigzag[:, 0].astype(np.int32)\n",
    "zig_dim2 = zigzag[:, 1].astype(np.int32)"
   ]
  },
  {
   "cell_type": "code",
   "execution_count": 6,
   "id": "5db86767-4f2a-493b-85cf-8b0ee1e960e8",
   "metadata": {},
   "outputs": [
    {
     "data": {
      "text/plain": [
       "(64, 2)"
      ]
     },
     "execution_count": 6,
     "metadata": {},
     "output_type": "execute_result"
    }
   ],
   "source": [
    "zigzag.shape"
   ]
  },
  {
   "cell_type": "code",
   "execution_count": 7,
   "id": "a495dfab-fd1f-4c16-a1fb-6ff8dac59a5b",
   "metadata": {},
   "outputs": [],
   "source": [
    "dtype_mapping = {\n",
    "    np.int8: \"b\",\n",
    "    np.int16: \"h\",\n",
    "    np.int32: \"i\",\n",
    "    np.float16: \"e\",\n",
    "    np.float32: \"f\",\n",
    "}"
   ]
  },
  {
   "cell_type": "code",
   "execution_count": 8,
   "id": "9dd76595-59ec-4318-a216-f9839a0fdd67",
   "metadata": {},
   "outputs": [],
   "source": [
    "dispatch_counts = np.array([dct.shape[0] // 8, dct.shape[1] // 8]).astype(np.int16)"
   ]
  },
  {
   "cell_type": "code",
   "execution_count": 9,
   "id": "204ec8c6-f882-4bc3-becd-2e22037c6f0d",
   "metadata": {},
   "outputs": [],
   "source": [
    "dct_flat = dct.flatten().astype(np.int32)"
   ]
  },
  {
   "cell_type": "markdown",
   "id": "7b64b676-beaf-4c24-aa77-98e069204e38",
   "metadata": {},
   "source": [
    "# Define the bindings to pipeline everything"
   ]
  },
  {
   "cell_type": "code",
   "execution_count": 33,
   "id": "0399ef50-cd66-48d5-8ccc-c0a3f66e7ab2",
   "metadata": {},
   "outputs": [],
   "source": [
    "## Make zig_dim1 and zig_dim1 buffers\n",
    "\n",
    "# Define a device\n",
    "device = wgpu.utils.get_default_device()\n",
    "\n",
    "#Define buffers\n",
    "zig_dim1_buffer = device.create_buffer_with_data(data=zig_dim1, usage=wgpu.BufferUsage.STORAGE)\n",
    "zig_dim2_buffer = device.create_buffer_with_data(data=zig_dim2, usage=wgpu.BufferUsage.STORAGE)\n",
    "dct_buffer = device.create_buffer_with_data(data=dct_flat, usage=wgpu.BufferUsage.STORAGE)\n",
    "\n",
    "out_buffer = device.create_buffer(\n",
    "    size=dct_flat.nbytes, usage=wgpu.BufferUsage.STORAGE | wgpu.BufferUsage.COPY_SRC\n",
    ")\n",
    "\n",
    "\n",
    "## Define binding layouts for each step:\n",
    "# Setup layout and bindings\n",
    "binding_layouts = [\n",
    "    {\n",
    "        \"binding\": 0,\n",
    "        \"visibility\": wgpu.ShaderStage.COMPUTE,\n",
    "        \"buffer\": {\n",
    "            \"type\": wgpu.BufferBindingType.read_only_storage,\n",
    "        },\n",
    "    },\n",
    "    {\n",
    "        \"binding\": 1,\n",
    "        \"visibility\": wgpu.ShaderStage.COMPUTE,\n",
    "        \"buffer\": {\n",
    "            \"type\": wgpu.BufferBindingType.read_only_storage,\n",
    "        },\n",
    "    },\n",
    "    {\n",
    "        \"binding\": 2,\n",
    "        \"visibility\": wgpu.ShaderStage.COMPUTE,\n",
    "        \"buffer\": {\n",
    "            \"type\": wgpu.BufferBindingType.read_only_storage,\n",
    "        },\n",
    "    },\n",
    "    {\n",
    "        \"binding\": 3,\n",
    "        \"visibility\": wgpu.ShaderStage.COMPUTE,\n",
    "        \"buffer\": {\n",
    "            \"type\": wgpu.BufferBindingType.storage,\n",
    "        },\n",
    "    },    \n",
    "]\n",
    "bindings = [\n",
    "    {\n",
    "        \"binding\": 0,\n",
    "        \"resource\": {\"buffer\": dct_buffer, \"offset\": 0, \"size\": dct_buffer.size},\n",
    "    },\n",
    "    {\n",
    "        \"binding\": 1,\n",
    "        \"resource\": {\"buffer\": zig_dim1_buffer, \"offset\": 0, \"size\": zig_dim1_buffer.size},\n",
    "    },\n",
    "    {\n",
    "        \"binding\": 2,\n",
    "        \"resource\": {\"buffer\": zig_dim2_buffer, \"offset\": 0, \"size\": zig_dim2_buffer.size},\n",
    "    },\n",
    "    {\n",
    "        \"binding\": 3,\n",
    "        \"resource\": {\"buffer\": out_buffer, \"offset\": 0, \"size\": out_buffer.size},\n",
    "    },\n",
    "]\n",
    "\n",
    "# Put everything together\n",
    "bind_group_layout = device.create_bind_group_layout(entries=binding_layouts)\n",
    "pipeline_layout = device.create_pipeline_layout(bind_group_layouts=[bind_group_layout])\n",
    "bind_group = device.create_bind_group(layout=bind_group_layout, entries=bindings)\n",
    "\n",
    "cshader = device.create_shader_module(code=open(\"rle_preview.wgsl\").read())\n",
    "# Create and run the pipeline\n",
    "compute_pipeline = device.create_compute_pipeline(\n",
    "    layout=pipeline_layout,\n",
    "    compute={\"module\": cshader, \"entry_point\": \"main\"},\n",
    ")\n",
    "\n",
    "\n",
    "command_encoder = device.create_command_encoder()\n",
    "compute_pass = command_encoder.begin_compute_pass()\n",
    "compute_pass.set_pipeline(compute_pipeline)\n",
    "compute_pass.set_bind_group(0, bind_group)\n",
    "compute_pass.dispatch_workgroups(64, 64, 1)  # x y z\n",
    "compute_pass.end()\n",
    "device.queue.submit([command_encoder.finish()])\n",
    "\n",
    "out = device.queue.read_buffer(out_buffer).cast(\"i\")\n",
    "out = np.array(out)\n"
   ]
  },
  {
   "cell_type": "code",
   "execution_count": 44,
   "id": "ccbfdc69-7b43-4767-8849-c4d95277f69a",
   "metadata": {},
   "outputs": [
    {
     "data": {
      "text/plain": [
       "0"
      ]
     },
     "execution_count": 44,
     "metadata": {},
     "output_type": "execute_result"
    }
   ],
   "source": []
  },
  {
   "cell_type": "raw",
   "id": "68f97c03-e5f5-4d76-ba02-4a3c5b02e5b5",
   "metadata": {},
   "source": [
    "Logic: Run preview shader"
   ]
  },
  {
   "cell_type": "code",
   "execution_count": 11,
   "id": "56ac9f1e-9eff-4ce6-a2fe-d8c03e7cdbda",
   "metadata": {},
   "outputs": [
    {
     "ename": "ValueError",
     "evalue": "Invalid shape for output array 5: (0,)",
     "output_type": "error",
     "traceback": [
      "\u001b[0;31m---------------------------------------------------------------------------\u001b[0m",
      "\u001b[0;31mValueError\u001b[0m                                Traceback (most recent call last)",
      "Cell \u001b[0;32mIn[11], line 48\u001b[0m\n\u001b[1;32m     35\u001b[0m     out \u001b[38;5;241m=\u001b[39m compute_with_buffers(\n\u001b[1;32m     36\u001b[0m         input_arrays\u001b[38;5;241m=\u001b[39m{\u001b[38;5;241m0\u001b[39m: dct_flat,\n\u001b[1;32m     37\u001b[0m                       \u001b[38;5;241m1\u001b[39m: zig_dim1,\n\u001b[0;32m   (...)\u001b[0m\n\u001b[1;32m     44\u001b[0m         n\u001b[38;5;241m=\u001b[39m(\u001b[38;5;241m64\u001b[39m,\u001b[38;5;241m64\u001b[39m,\u001b[38;5;241m1\u001b[39m)\n\u001b[1;32m     45\u001b[0m     )\n\u001b[1;32m     47\u001b[0m     \u001b[38;5;28;01mreturn\u001b[39;00m np\u001b[38;5;241m.\u001b[39mfrombuffer(out[\u001b[38;5;241m5\u001b[39m], dtype\u001b[38;5;241m=\u001b[39mnp\u001b[38;5;241m.\u001b[39mint32)\n\u001b[0;32m---> 48\u001b[0m x \u001b[38;5;241m=\u001b[39m \u001b[43mmy_func\u001b[49m\u001b[43m(\u001b[49m\u001b[43m)\u001b[49m\n",
      "Cell \u001b[0;32mIn[11], line 35\u001b[0m, in \u001b[0;36mmy_func\u001b[0;34m()\u001b[0m\n\u001b[1;32m     26\u001b[0m total_length \u001b[38;5;241m=\u001b[39m np\u001b[38;5;241m.\u001b[39mfrombuffer(out[\u001b[38;5;241m2\u001b[39m], dtype\u001b[38;5;241m=\u001b[39mnp\u001b[38;5;241m.\u001b[39mint32)[\u001b[38;5;241m0\u001b[39m]\n\u001b[1;32m     27\u001b[0m \u001b[38;5;66;03m# # print(f\"rle length is {rle_lengths[:10]}\")\u001b[39;00m\n\u001b[1;32m     28\u001b[0m \u001b[38;5;66;03m# total_length = np.sum(rle_lengths)\u001b[39;00m\n\u001b[1;32m     29\u001b[0m \u001b[38;5;66;03m# # print(f\"total length is {total_length}\")\u001b[39;00m\n\u001b[1;32m     30\u001b[0m \u001b[38;5;66;03m# start_pts = np.zeros_like(rle_lengths)\u001b[39;00m\n\u001b[1;32m     31\u001b[0m \u001b[38;5;66;03m# start_pts[1:] = np.cumsum(rle_lengths[:-1])\u001b[39;00m\n\u001b[1;32m     32\u001b[0m \u001b[38;5;66;03m# # print(f\"start_pts is {start_pts[:10]}\")\u001b[39;00m\n\u001b[0;32m---> 35\u001b[0m out \u001b[38;5;241m=\u001b[39m \u001b[43mcompute_with_buffers\u001b[49m\u001b[43m(\u001b[49m\n\u001b[1;32m     36\u001b[0m \u001b[43m    \u001b[49m\u001b[43minput_arrays\u001b[49m\u001b[38;5;241;43m=\u001b[39;49m\u001b[43m{\u001b[49m\u001b[38;5;241;43m0\u001b[39;49m\u001b[43m:\u001b[49m\u001b[43m \u001b[49m\u001b[43mdct_flat\u001b[49m\u001b[43m,\u001b[49m\n\u001b[1;32m     37\u001b[0m \u001b[43m                  \u001b[49m\u001b[38;5;241;43m1\u001b[39;49m\u001b[43m:\u001b[49m\u001b[43m \u001b[49m\u001b[43mzig_dim1\u001b[49m\u001b[43m,\u001b[49m\n\u001b[1;32m     38\u001b[0m \u001b[43m                  \u001b[49m\u001b[38;5;241;43m2\u001b[39;49m\u001b[43m:\u001b[49m\u001b[43mzig_dim2\u001b[49m\u001b[43m,\u001b[49m\n\u001b[1;32m     39\u001b[0m \u001b[43m                  \u001b[49m\u001b[38;5;241;43m3\u001b[39;49m\u001b[43m:\u001b[49m\u001b[43m \u001b[49m\u001b[43mstart_pts\u001b[49m\u001b[43m,\u001b[49m\n\u001b[1;32m     40\u001b[0m \u001b[43m                  \u001b[49m\u001b[38;5;241;43m4\u001b[39;49m\u001b[43m:\u001b[49m\u001b[43m \u001b[49m\u001b[43mrle_lengths\u001b[49m\u001b[43m}\u001b[49m\u001b[43m,\u001b[49m\n\u001b[1;32m     41\u001b[0m \u001b[43m    \u001b[49m\n\u001b[1;32m     42\u001b[0m \u001b[43m    \u001b[49m\u001b[43moutput_arrays\u001b[49m\u001b[38;5;241;43m=\u001b[39;49m\u001b[43m{\u001b[49m\u001b[38;5;241;43m5\u001b[39;49m\u001b[43m:\u001b[49m\u001b[43m \u001b[49m\u001b[43m(\u001b[49m\u001b[43mtotal_length\u001b[49m\u001b[43m,\u001b[49m\u001b[43m \u001b[49m\u001b[43mdtype_mapping\u001b[49m\u001b[43m[\u001b[49m\u001b[43mnp\u001b[49m\u001b[38;5;241;43m.\u001b[39;49m\u001b[43mint32\u001b[49m\u001b[43m]\u001b[49m\u001b[43m)\u001b[49m\u001b[43m}\u001b[49m\u001b[43m,\u001b[49m\n\u001b[1;32m     43\u001b[0m \u001b[43m    \u001b[49m\u001b[43mshader\u001b[49m\u001b[38;5;241;43m=\u001b[39;49m\u001b[43mrle_full\u001b[49m\u001b[43m,\u001b[49m\n\u001b[1;32m     44\u001b[0m \u001b[43m    \u001b[49m\u001b[43mn\u001b[49m\u001b[38;5;241;43m=\u001b[39;49m\u001b[43m(\u001b[49m\u001b[38;5;241;43m64\u001b[39;49m\u001b[43m,\u001b[49m\u001b[38;5;241;43m64\u001b[39;49m\u001b[43m,\u001b[49m\u001b[38;5;241;43m1\u001b[39;49m\u001b[43m)\u001b[49m\n\u001b[1;32m     45\u001b[0m \u001b[43m\u001b[49m\u001b[43m)\u001b[49m\n\u001b[1;32m     47\u001b[0m \u001b[38;5;28;01mreturn\u001b[39;00m np\u001b[38;5;241m.\u001b[39mfrombuffer(out[\u001b[38;5;241m5\u001b[39m], dtype\u001b[38;5;241m=\u001b[39mnp\u001b[38;5;241m.\u001b[39mint32)\n",
      "File \u001b[0;32m~/masknmf-toolbox/masknmfvenv/lib/python3.11/site-packages/wgpu/utils/compute.py:84\u001b[0m, in \u001b[0;36mcompute_with_buffers\u001b[0;34m(input_arrays, output_arrays, shader, constants, n)\u001b[0m\n\u001b[1;32m     82\u001b[0m shape \u001b[38;5;241m=\u001b[39m \u001b[38;5;28mtuple\u001b[39m(\u001b[38;5;28mint\u001b[39m(i) \u001b[38;5;28;01mfor\u001b[39;00m i \u001b[38;5;129;01min\u001b[39;00m array_descr[:\u001b[38;5;241m-\u001b[39m\u001b[38;5;241m1\u001b[39m])\n\u001b[1;32m     83\u001b[0m \u001b[38;5;28;01mif\u001b[39;00m \u001b[38;5;129;01mnot\u001b[39;00m (shape \u001b[38;5;129;01mand\u001b[39;00m \u001b[38;5;28mall\u001b[39m(i \u001b[38;5;241m>\u001b[39m \u001b[38;5;241m0\u001b[39m \u001b[38;5;28;01mfor\u001b[39;00m i \u001b[38;5;129;01min\u001b[39;00m shape)):\n\u001b[0;32m---> 84\u001b[0m     \u001b[38;5;28;01mraise\u001b[39;00m \u001b[38;5;167;01mValueError\u001b[39;00m(\u001b[38;5;124mf\u001b[39m\u001b[38;5;124m\"\u001b[39m\u001b[38;5;124mInvalid shape for output array \u001b[39m\u001b[38;5;132;01m{\u001b[39;00mkey\u001b[38;5;132;01m}\u001b[39;00m\u001b[38;5;124m: \u001b[39m\u001b[38;5;132;01m{\u001b[39;00mshape\u001b[38;5;132;01m}\u001b[39;00m\u001b[38;5;124m\"\u001b[39m)\n\u001b[1;32m     85\u001b[0m nbytes \u001b[38;5;241m=\u001b[39m format_size\n\u001b[1;32m     86\u001b[0m \u001b[38;5;28;01mfor\u001b[39;00m i \u001b[38;5;129;01min\u001b[39;00m shape:\n",
      "\u001b[0;31mValueError\u001b[0m: Invalid shape for output array 5: (0,)"
     ]
    }
   ],
   "source": [
    "import time\n",
    "start_time = time.time()\n",
    "def my_func():\n",
    "    out_shape = ((512*512) / (64*64),)\n",
    "    out = compute_with_buffers(\n",
    "        input_arrays={0: dct_flat,\n",
    "                     1: zig_dim1,\n",
    "                     2: zig_dim2},\n",
    "        output_arrays={3: (*out_shape, dtype_mapping[np.int32])},\n",
    "        shader=rle_preview,\n",
    "        n=(64,64, 1)\n",
    "    )\n",
    "    \n",
    "    # print(\"done!\")\n",
    "    rle_lengths = np.frombuffer(out[3], dtype=np.int32)\n",
    "    out_shape = (rle_lengths.shape[0],)\n",
    "    out = compute_with_buffers(\n",
    "        input_arrays={0: rle_lengths},\n",
    "        output_arrays={1: (*out_shape, dtype_mapping[np.int32]),\n",
    "                       2: (1, dtype_mapping[np.int32])},\n",
    "        shader=cumsum_shader,\n",
    "        n=(1,1,1)\n",
    "    )\n",
    "\n",
    "    start_pts = np.frombuffer(out[1], dtype=np.int32)\n",
    "    total_length = np.frombuffer(out[2], dtype=np.int32)[0]\n",
    "    \n",
    "    out = compute_with_buffers(\n",
    "        input_arrays={0: dct_flat,\n",
    "                      1: zig_dim1,\n",
    "                      2:zig_dim2,\n",
    "                      3: start_pts,\n",
    "                      4: rle_lengths},\n",
    "        \n",
    "        output_arrays={5: (total_length, dtype_mapping[np.int32])},\n",
    "        shader=rle_full,\n",
    "        n=(64,64,1)\n",
    "    )\n",
    "\n",
    "    return np.frombuffer(out[5], dtype=np.int32)\n",
    "x = my_func()"
   ]
  },
  {
   "cell_type": "code",
   "execution_count": 25,
   "id": "6653179b-5f8b-4ef8-bb3a-5299c88e0f5f",
   "metadata": {},
   "outputs": [],
   "source": [
    "def my_func():\n",
    "    out_shape = ((512*512) / (8*8),)\n",
    "    out = compute_with_buffers(\n",
    "        input_arrays={0: dct_flat,\n",
    "                     1: zig_dim1,\n",
    "                     2: zig_dim2},\n",
    "        output_arrays={3: (*out_shape, dtype_mapping[np.int32])},\n",
    "        shader=rle_preview,\n",
    "        n=(64,64, 1)\n",
    "    )\n",
    "\n",
    "    rle_lengths = np.frombuffer(out[3], dtype=np.int32)\n",
    "    out_shape = (rle_lengths.shape[0],)\n",
    "    out = compute_with_buffers(\n",
    "        input_arrays={0: rle_lengths},\n",
    "        output_arrays={1: (*out_shape, dtype_mapping[np.int32]),\n",
    "                       2: (1, dtype_mapping[np.int32])},\n",
    "        shader=cumsum_shader,\n",
    "        n=(1,1,1)\n",
    "    )\n",
    "    \n",
    "    start_pts = np.frombuffer(out[1], dtype=np.int32)\n",
    "    total_length = np.frombuffer(out[2], dtype=np.int32)\n",
    "    \n",
    "    \n",
    "    out = compute_with_buffers(\n",
    "        input_arrays={0: dct_flat,\n",
    "                      1: zig_dim1,\n",
    "                      2:zig_dim2,\n",
    "                      3: start_pts,\n",
    "                      4: rle_lengths},\n",
    "        \n",
    "        output_arrays={5: (total_length, dtype_mapping[np.int32])},\n",
    "        shader=rle_full,\n",
    "        n=(64,64,1)\n",
    "    )\n",
    "    \n",
    "    return np.frombuffer(out[5], dtype=np.int32)"
   ]
  },
  {
   "cell_type": "code",
   "execution_count": 28,
   "id": "4a993f54-7c92-457a-a6aa-466b7f58041a",
   "metadata": {},
   "outputs": [
    {
     "data": {
      "text/plain": [
       "Timer unit: 1e-09 s\n",
       "\n",
       "Total time: 0.0343335 s\n",
       "File: /tmp/ipykernel_3287654/1886378806.py\n",
       "Function: my_func at line 1\n",
       "\n",
       "Line #      Hits         Time  Per Hit   % Time  Line Contents\n",
       "==============================================================\n",
       "     1                                           def my_func():\n",
       "     2         1       1807.0   1807.0      0.0      out_shape = ((512*512) / (8*8),)\n",
       "     3         2   12942860.0    6e+06     37.7      out = compute_with_buffers(\n",
       "     4         2       2845.0   1422.5      0.0          input_arrays={0: dct_flat,\n",
       "     5         1        523.0    523.0      0.0                       1: zig_dim1,\n",
       "     6         1        434.0    434.0      0.0                       2: zig_dim2},\n",
       "     7         1       4583.0   4583.0      0.0          output_arrays={3: (*out_shape, dtype_mapping[np.int32])},\n",
       "     8         1        677.0    677.0      0.0          shader=rle_preview,\n",
       "     9         1        460.0    460.0      0.0          n=(64,64, 1)\n",
       "    10                                               )\n",
       "    11                                               \n",
       "    12                                               # print(\"done!\")\n",
       "    13         1      13824.0  13824.0      0.0      rle_lengths = np.frombuffer(out[3], dtype=np.int32)\n",
       "    14         1       2247.0   2247.0      0.0      out_shape = (rle_lengths.shape[0],)\n",
       "    15         2   12225249.0    6e+06     35.6      out = compute_with_buffers(\n",
       "    16         1        817.0    817.0      0.0          input_arrays={0: rle_lengths},\n",
       "    17         2       3572.0   1786.0      0.0          output_arrays={1: (*out_shape, dtype_mapping[np.int32]),\n",
       "    18         1        589.0    589.0      0.0                         2: (1, dtype_mapping[np.int32])},\n",
       "    19         1        511.0    511.0      0.0          shader=cumsum_shader,\n",
       "    20         1        402.0    402.0      0.0          n=(1,1,1)\n",
       "    21                                               )\n",
       "    22                                               \n",
       "    23         1      11863.0  11863.0      0.0      start_pts = np.frombuffer(out[1], dtype=np.int32)\n",
       "    24         1       1744.0   1744.0      0.0      total_length = np.frombuffer(out[2], dtype=np.int32)\n",
       "    25                                               \n",
       "    26                                               \n",
       "    27         2    9102895.0    5e+06     26.5      out = compute_with_buffers(\n",
       "    28         2       2100.0   1050.0      0.0          input_arrays={0: dct_flat,\n",
       "    29         1        662.0    662.0      0.0                        1: zig_dim1,\n",
       "    30         1        410.0    410.0      0.0                        2:zig_dim2,\n",
       "    31         1        316.0    316.0      0.0                        3: start_pts,\n",
       "    32         1        238.0    238.0      0.0                        4: rle_lengths},\n",
       "    33                                                   \n",
       "    34         1       1735.0   1735.0      0.0          output_arrays={5: (total_length, dtype_mapping[np.int32])},\n",
       "    35         1        525.0    525.0      0.0          shader=rle_full,\n",
       "    36         1        320.0    320.0      0.0          n=(64,64,1)\n",
       "    37                                               )\n",
       "    38                                               \n",
       "    39         1       9282.0   9282.0      0.0      return np.frombuffer(out[5], dtype=np.int32)"
      ]
     },
     "metadata": {},
     "output_type": "display_data"
    }
   ],
   "source": [
    "%lprun -f my_func my_func()"
   ]
  },
  {
   "cell_type": "code",
   "execution_count": 22,
   "id": "8b7aa6ad-de4d-4e2d-9a9c-425ae62ebc35",
   "metadata": {},
   "outputs": [
    {
     "data": {
      "text/plain": [
       "array([119246], dtype=int32)"
      ]
     },
     "execution_count": 22,
     "metadata": {},
     "output_type": "execute_result"
    }
   ],
   "source": [
    "total_length"
   ]
  },
  {
   "cell_type": "code",
   "execution_count": null,
   "id": "aa1a9ace-ed13-4f60-809d-84f4f24c2b03",
   "metadata": {},
   "outputs": [],
   "source": [
    "zig_dim1.shape"
   ]
  },
  {
   "cell_type": "markdown",
   "id": "5e8ff295-7cee-45c7-84ab-3cec4c680cf7",
   "metadata": {},
   "source": [
    "# Now let's try the wgpu data"
   ]
  },
  {
   "cell_type": "code",
   "execution_count": null,
   "id": "757a648b-852e-4260-856f-b16b3dff1e1c",
   "metadata": {},
   "outputs": [],
   "source": [
    "device = wgpu.utils.get_default_device()\n",
    "# Create buffer objects, input buffer is mapped.\n",
    "\n",
    "buffer_input = device.create_buffer_with_data(data=dct_flat, usage=wgpu.BufferUsage.STORAGE)\n",
    "buffer_zig1 = device.create_buffer_with_data(data=zig_dim1, usage=wgpu.BufferUsage.STORAGE)\n",
    "buffer_zig2 = device.create_buffer_with_data(data=zig_dim2, usage=wgpu.BufferUsage.STORAGE)\n"
   ]
  },
  {
   "cell_type": "code",
   "execution_count": null,
   "id": "edfff91d-22ef-4755-b292-950962bf1f95",
   "metadata": {},
   "outputs": [],
   "source": []
  }
 ],
 "metadata": {
  "kernelspec": {
   "display_name": "Python 3 (ipykernel)",
   "language": "python",
   "name": "python3"
  },
  "language_info": {
   "codemirror_mode": {
    "name": "ipython",
    "version": 3
   },
   "file_extension": ".py",
   "mimetype": "text/x-python",
   "name": "python",
   "nbconvert_exporter": "python",
   "pygments_lexer": "ipython3",
   "version": "3.11.9"
  }
 },
 "nbformat": 4,
 "nbformat_minor": 5
}
