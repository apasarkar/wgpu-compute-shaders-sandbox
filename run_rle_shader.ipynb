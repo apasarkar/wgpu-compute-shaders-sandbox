{
 "cells": [
  {
   "cell_type": "code",
   "execution_count": 1,
   "id": "ea30c55d-a89c-4fed-9304-72ff2be13315",
   "metadata": {},
   "outputs": [],
   "source": [
    "import numpy as np\n",
    "\n",
    "import wgpu\n",
    "from wgpu.utils.compute import compute_with_buffers"
   ]
  },
  {
   "cell_type": "code",
   "execution_count": 2,
   "id": "16bae46c-c466-4ae7-8077-5207a0e7cfa5",
   "metadata": {},
   "outputs": [],
   "source": [
    "data_file = np.load(\"dct_data_jul11.npz\")\n",
    "dct = data_file['dct']\n",
    "mask = dct != 0\n",
    "dct -= np.amin(dct)\n",
    "dct *= mask"
   ]
  },
  {
   "cell_type": "code",
   "execution_count": 3,
   "id": "73e0bdb2-9df0-4e56-a26b-468e792fac41",
   "metadata": {},
   "outputs": [
    {
     "data": {
      "text/plain": [
       "array([[451, 223, 216, 214, 206,   0,   0,   0],\n",
       "       [143, 191, 227, 209, 209,   0,   0,   0],\n",
       "       [168, 208, 212, 209,   0,   0,   0,   0],\n",
       "       [200,   0, 209,   0,   0,   0,   0,   0],\n",
       "       [204,   0, 208,   0,   0,   0,   0,   0],\n",
       "       [206,   0,   0,   0,   0,   0,   0,   0],\n",
       "       [206,   0,   0,   0,   0,   0,   0,   0],\n",
       "       [  0,   0,   0,   0,   0,   0,   0,   0]], dtype=int16)"
      ]
     },
     "execution_count": 3,
     "metadata": {},
     "output_type": "execute_result"
    }
   ],
   "source": [
    "dct[:8, :8]"
   ]
  },
  {
   "cell_type": "code",
   "execution_count": 4,
   "id": "b9bd7ad1-635d-446b-9af9-5774ff99bab9",
   "metadata": {},
   "outputs": [],
   "source": [
    "def read_shader():\n",
    "    return open(\"./rle.wgsl\").read()"
   ]
  },
  {
   "cell_type": "code",
   "execution_count": 5,
   "id": "c836574b-3627-48ed-b86d-b45665d6de3f",
   "metadata": {},
   "outputs": [],
   "source": [
    "\n",
    "# def generate_basis():\n",
    "zigzag = np.array(\n",
    "    [\n",
    "        [0, 0],\n",
    "        [0, 1],\n",
    "        [1, 0],\n",
    "        [2, 0],\n",
    "        [1, 1],\n",
    "        [0, 2],\n",
    "        [0, 3],\n",
    "        [1, 2],\n",
    "        [2, 1],\n",
    "        [3, 0],\n",
    "        [4, 0],\n",
    "        [3, 1],\n",
    "        [2, 2],\n",
    "        [1, 3],\n",
    "        [0, 4],\n",
    "        [0, 5],\n",
    "        [1, 4],\n",
    "        [2, 3],\n",
    "        [3, 2],\n",
    "        [4, 1],\n",
    "        [5, 0],\n",
    "        [6, 0],\n",
    "        [5, 1],\n",
    "        [4, 2],\n",
    "        [3, 3],\n",
    "        [2, 4],\n",
    "        [1, 5],\n",
    "        [0, 6],\n",
    "        [0, 7],\n",
    "        [1, 6],\n",
    "        [2, 5],\n",
    "        [3, 4],\n",
    "        [4, 3],\n",
    "        [5, 2],\n",
    "        [6, 1],\n",
    "        [7, 0],\n",
    "        [7, 1],\n",
    "        [6, 2],\n",
    "        [5, 3],\n",
    "        [4, 4],\n",
    "        [3, 5],\n",
    "        [2, 6],\n",
    "        [1, 7],\n",
    "        [2, 7],\n",
    "        [3, 6],\n",
    "        [4, 5],\n",
    "        [5, 4],\n",
    "        [6, 3],\n",
    "        [7, 2],\n",
    "        [7, 3],\n",
    "        [6, 4],\n",
    "        [5, 5],\n",
    "        [4, 6],\n",
    "        [3, 7],\n",
    "        [4, 7],\n",
    "        [5, 6],\n",
    "        [6, 5],\n",
    "        [7, 4],\n",
    "        [7, 5],\n",
    "        [6, 6],\n",
    "        [5, 7],\n",
    "        [6, 7],\n",
    "        [7, 6],\n",
    "        [7, 7],\n",
    "    ]\n",
    ")\n",
    "zig_dim1 = zigzag[:, 0].astype(np.int32)\n",
    "zig_dim2 = zigzag[:, 1].astype(np.int32)"
   ]
  },
  {
   "cell_type": "code",
   "execution_count": 6,
   "id": "5db86767-4f2a-493b-85cf-8b0ee1e960e8",
   "metadata": {},
   "outputs": [
    {
     "data": {
      "text/plain": [
       "(64, 2)"
      ]
     },
     "execution_count": 6,
     "metadata": {},
     "output_type": "execute_result"
    }
   ],
   "source": [
    "zigzag.shape"
   ]
  },
  {
   "cell_type": "code",
   "execution_count": 7,
   "id": "a495dfab-fd1f-4c16-a1fb-6ff8dac59a5b",
   "metadata": {},
   "outputs": [],
   "source": [
    "dtype_mapping = {\n",
    "    np.int8: \"b\",\n",
    "    np.int16: \"h\",\n",
    "    np.int32: \"i\",\n",
    "    np.float16: \"e\",\n",
    "    np.float32: \"f\",\n",
    "}"
   ]
  },
  {
   "cell_type": "code",
   "execution_count": 8,
   "id": "9dd76595-59ec-4318-a216-f9839a0fdd67",
   "metadata": {},
   "outputs": [],
   "source": [
    "dispatch_counts = np.array([dct.shape[0] // 8, dct.shape[1] // 8]).astype(np.int16)"
   ]
  },
  {
   "cell_type": "code",
   "execution_count": 9,
   "id": "204ec8c6-f882-4bc3-becd-2e22037c6f0d",
   "metadata": {},
   "outputs": [],
   "source": [
    "dct_flat = dct.flatten().astype(np.int32)"
   ]
  },
  {
   "cell_type": "code",
   "execution_count": 10,
   "id": "cc1dde78-a9a0-4558-9db8-ec1501c026d7",
   "metadata": {},
   "outputs": [
    {
     "name": "stderr",
     "output_type": "stream",
     "text": [
      "No windowing system present. Using surfaceless platform\n",
      "No config found!\n",
      "No config found!\n",
      "Max vertex attribute stride unknown. Assuming it is 2048\n"
     ]
    },
    {
     "data": {
      "text/plain": [
       "array([  0, 451,   0, ...,   0,   0,   0], dtype=int32)"
      ]
     },
     "execution_count": 10,
     "metadata": {},
     "output_type": "execute_result"
    }
   ],
   "source": [
    "## out_shape = a.shape\n",
    "out_shape = (512*512,)\n",
    "out = compute_with_buffers(\n",
    "    input_arrays={0: dct_flat,\n",
    "                 1: zig_dim1,\n",
    "                 2: zig_dim2},\n",
    "    output_arrays={3: (*out_shape, dtype_mapping[np.int32])},\n",
    "    shader=read_shader(),\n",
    "    n=(64,64, 1)\n",
    ")\n",
    "\n",
    "shader_out = np.frombuffer(out[3], dtype=np.int32)\n",
    "shader_out"
   ]
  },
  {
   "cell_type": "code",
   "execution_count": 11,
   "id": "64923aaa-9837-4849-a979-3b6c5a0c6ae0",
   "metadata": {},
   "outputs": [
    {
     "data": {
      "text/plain": [
       "array([[451, 223, 216, 214, 206,   0,   0,   0],\n",
       "       [143, 191, 227, 209, 209,   0,   0,   0],\n",
       "       [168, 208, 212, 209,   0,   0,   0,   0],\n",
       "       [200,   0, 209,   0,   0,   0,   0,   0],\n",
       "       [204,   0, 208,   0,   0,   0,   0,   0],\n",
       "       [206,   0,   0,   0,   0,   0,   0,   0],\n",
       "       [206,   0,   0,   0,   0,   0,   0,   0],\n",
       "       [  0,   0,   0,   0,   0,   0,   0,   0]], dtype=int16)"
      ]
     },
     "execution_count": 11,
     "metadata": {},
     "output_type": "execute_result"
    }
   ],
   "source": [
    "dct[:8, :8]"
   ]
  },
  {
   "cell_type": "code",
   "execution_count": null,
   "id": "978ec478-307b-4917-b958-90dd53ee7578",
   "metadata": {},
   "outputs": [],
   "source": []
  }
 ],
 "metadata": {
  "kernelspec": {
   "display_name": "Python 3 (ipykernel)",
   "language": "python",
   "name": "python3"
  },
  "language_info": {
   "codemirror_mode": {
    "name": "ipython",
    "version": 3
   },
   "file_extension": ".py",
   "mimetype": "text/x-python",
   "name": "python",
   "nbconvert_exporter": "python",
   "pygments_lexer": "ipython3",
   "version": "3.11.9"
  }
 },
 "nbformat": 4,
 "nbformat_minor": 5
}
