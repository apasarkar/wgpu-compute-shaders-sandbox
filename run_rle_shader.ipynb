{
 "cells": [
  {
   "cell_type": "code",
   "execution_count": 25,
   "id": "ea30c55d-a89c-4fed-9304-72ff2be13315",
   "metadata": {},
   "outputs": [],
   "source": [
    "import numpy as np\n",
    "\n",
    "import wgpu\n",
    "from wgpu.utils.compute import compute_with_buffers\n",
    "%load_ext line_profiler"
   ]
  },
  {
   "cell_type": "code",
   "execution_count": 2,
   "id": "16bae46c-c466-4ae7-8077-5207a0e7cfa5",
   "metadata": {},
   "outputs": [],
   "source": [
    "data_file = np.load(\"dct_data_jul11.npz\")\n",
    "dct = data_file['dct']\n",
    "mask = dct != 0\n",
    "dct -= np.amin(dct)\n",
    "dct *= mask"
   ]
  },
  {
   "cell_type": "code",
   "execution_count": 3,
   "id": "73e0bdb2-9df0-4e56-a26b-468e792fac41",
   "metadata": {},
   "outputs": [
    {
     "data": {
      "text/plain": [
       "array([[451, 223, 216, 214, 206,   0,   0,   0],\n",
       "       [143, 191, 227, 209, 209,   0,   0,   0],\n",
       "       [168, 208, 212, 209,   0,   0,   0,   0],\n",
       "       [200,   0, 209,   0,   0,   0,   0,   0],\n",
       "       [204,   0, 208,   0,   0,   0,   0,   0],\n",
       "       [206,   0,   0,   0,   0,   0,   0,   0],\n",
       "       [206,   0,   0,   0,   0,   0,   0,   0],\n",
       "       [  0,   0,   0,   0,   0,   0,   0,   0]], dtype=int16)"
      ]
     },
     "execution_count": 3,
     "metadata": {},
     "output_type": "execute_result"
    }
   ],
   "source": [
    "dct[:8, :8]"
   ]
  },
  {
   "cell_type": "code",
   "execution_count": 27,
   "id": "b9bd7ad1-635d-446b-9af9-5774ff99bab9",
   "metadata": {},
   "outputs": [],
   "source": [
    "def read_shader_preview():\n",
    "    return open(\"./rle_preview.wgsl\").read()\n",
    "\n",
    "def read_shader():\n",
    "    return open(\"./rle.wgsl\").read()\n",
    "\n",
    "a = read_shader_preview()\n",
    "b = read_shader()"
   ]
  },
  {
   "cell_type": "code",
   "execution_count": 5,
   "id": "c836574b-3627-48ed-b86d-b45665d6de3f",
   "metadata": {},
   "outputs": [],
   "source": [
    "\n",
    "# def generate_basis():\n",
    "zigzag = np.array(\n",
    "    [\n",
    "        [0, 0],\n",
    "        [0, 1],\n",
    "        [1, 0],\n",
    "        [2, 0],\n",
    "        [1, 1],\n",
    "        [0, 2],\n",
    "        [0, 3],\n",
    "        [1, 2],\n",
    "        [2, 1],\n",
    "        [3, 0],\n",
    "        [4, 0],\n",
    "        [3, 1],\n",
    "        [2, 2],\n",
    "        [1, 3],\n",
    "        [0, 4],\n",
    "        [0, 5],\n",
    "        [1, 4],\n",
    "        [2, 3],\n",
    "        [3, 2],\n",
    "        [4, 1],\n",
    "        [5, 0],\n",
    "        [6, 0],\n",
    "        [5, 1],\n",
    "        [4, 2],\n",
    "        [3, 3],\n",
    "        [2, 4],\n",
    "        [1, 5],\n",
    "        [0, 6],\n",
    "        [0, 7],\n",
    "        [1, 6],\n",
    "        [2, 5],\n",
    "        [3, 4],\n",
    "        [4, 3],\n",
    "        [5, 2],\n",
    "        [6, 1],\n",
    "        [7, 0],\n",
    "        [7, 1],\n",
    "        [6, 2],\n",
    "        [5, 3],\n",
    "        [4, 4],\n",
    "        [3, 5],\n",
    "        [2, 6],\n",
    "        [1, 7],\n",
    "        [2, 7],\n",
    "        [3, 6],\n",
    "        [4, 5],\n",
    "        [5, 4],\n",
    "        [6, 3],\n",
    "        [7, 2],\n",
    "        [7, 3],\n",
    "        [6, 4],\n",
    "        [5, 5],\n",
    "        [4, 6],\n",
    "        [3, 7],\n",
    "        [4, 7],\n",
    "        [5, 6],\n",
    "        [6, 5],\n",
    "        [7, 4],\n",
    "        [7, 5],\n",
    "        [6, 6],\n",
    "        [5, 7],\n",
    "        [6, 7],\n",
    "        [7, 6],\n",
    "        [7, 7],\n",
    "    ]\n",
    ")\n",
    "zig_dim1 = zigzag[:, 0].astype(np.int32)\n",
    "zig_dim2 = zigzag[:, 1].astype(np.int32)"
   ]
  },
  {
   "cell_type": "code",
   "execution_count": 6,
   "id": "5db86767-4f2a-493b-85cf-8b0ee1e960e8",
   "metadata": {},
   "outputs": [
    {
     "data": {
      "text/plain": [
       "(64, 2)"
      ]
     },
     "execution_count": 6,
     "metadata": {},
     "output_type": "execute_result"
    }
   ],
   "source": [
    "zigzag.shape"
   ]
  },
  {
   "cell_type": "code",
   "execution_count": 7,
   "id": "a495dfab-fd1f-4c16-a1fb-6ff8dac59a5b",
   "metadata": {},
   "outputs": [],
   "source": [
    "dtype_mapping = {\n",
    "    np.int8: \"b\",\n",
    "    np.int16: \"h\",\n",
    "    np.int32: \"i\",\n",
    "    np.float16: \"e\",\n",
    "    np.float32: \"f\",\n",
    "}"
   ]
  },
  {
   "cell_type": "code",
   "execution_count": 8,
   "id": "9dd76595-59ec-4318-a216-f9839a0fdd67",
   "metadata": {},
   "outputs": [],
   "source": [
    "dispatch_counts = np.array([dct.shape[0] // 8, dct.shape[1] // 8]).astype(np.int16)"
   ]
  },
  {
   "cell_type": "code",
   "execution_count": 9,
   "id": "204ec8c6-f882-4bc3-becd-2e22037c6f0d",
   "metadata": {},
   "outputs": [],
   "source": [
    "dct_flat = dct.flatten().astype(np.int32)"
   ]
  },
  {
   "cell_type": "markdown",
   "id": "447aff6d-672a-41a9-adbc-1a1ebeb90c9b",
   "metadata": {},
   "source": [
    "Logic: Run preview shader"
   ]
  },
  {
   "cell_type": "code",
   "execution_count": 29,
   "id": "cc1dde78-a9a0-4558-9db8-ec1501c026d7",
   "metadata": {},
   "outputs": [
    {
     "data": {
      "text/plain": [
       "Timer unit: 1e-09 s\n",
       "\n",
       "Total time: 0.0194585 s\n",
       "File: /tmp/ipykernel_3190820/1076818565.py\n",
       "Function: my_func at line 3\n",
       "\n",
       "Line #      Hits         Time  Per Hit   % Time  Line Contents\n",
       "==============================================================\n",
       "     3                                           def my_func():\n",
       "     4         1       1118.0   1118.0      0.0      out_shape = ((512*512) / (64*64),)\n",
       "     5         2   10386448.0    5e+06     53.4      out = compute_with_buffers(\n",
       "     6         2       1538.0    769.0      0.0          input_arrays={0: dct_flat,\n",
       "     7         1        289.0    289.0      0.0                       1: zig_dim1,\n",
       "     8         1        309.0    309.0      0.0                       2: zig_dim2},\n",
       "     9         1       3424.0   3424.0      0.0          output_arrays={3: (*out_shape, dtype_mapping[np.int32])},\n",
       "    10         1        405.0    405.0      0.0          shader=a,\n",
       "    11         1        273.0    273.0      0.0          n=(64,64, 1)\n",
       "    12                                               )\n",
       "    13                                               \n",
       "    14                                               # print(\"done!\")\n",
       "    15         1      11946.0  11946.0      0.1      rle_lengths = np.frombuffer(out[3], dtype=np.int32)\n",
       "    16                                               # print(f\"rle length is {rle_lengths[:10]}\")\n",
       "    17         1      57336.0  57336.0      0.3      total_length = np.sum(rle_lengths)\n",
       "    18                                               # print(f\"total length is {total_length}\")\n",
       "    19         1      24155.0  24155.0      0.1      start_pts = np.zeros_like(rle_lengths)\n",
       "    20         1      31496.0  31496.0      0.2      start_pts[1:] = np.cumsum(rle_lengths[:-1])\n",
       "    21                                               # print(f\"start_pts is {start_pts[:10]}\")\n",
       "    22                                               \n",
       "    23                                               \n",
       "    24         2    8933972.0    4e+06     45.9      out = compute_with_buffers(\n",
       "    25         2       2031.0   1015.5      0.0          input_arrays={0: dct_flat,\n",
       "    26         1        343.0    343.0      0.0                        1: zig_dim1,\n",
       "    27         1        385.0    385.0      0.0                        2:zig_dim2,\n",
       "    28         1        322.0    322.0      0.0                        3: start_pts,\n",
       "    29         1        327.0    327.0      0.0                        4: rle_lengths},\n",
       "    30                                                   \n",
       "    31         1       1781.0   1781.0      0.0          output_arrays={5: (total_length, dtype_mapping[np.int32])},\n",
       "    32         1        417.0    417.0      0.0          shader=b,\n",
       "    33         1        231.0    231.0      0.0          n=(64,64,1)\n",
       "    34                                               )"
      ]
     },
     "metadata": {},
     "output_type": "display_data"
    }
   ],
   "source": [
    "import time\n",
    "start_time = time.time()\n",
    "def my_func():\n",
    "    out_shape = ((512*512) / (64*64),)\n",
    "    out = compute_with_buffers(\n",
    "        input_arrays={0: dct_flat,\n",
    "                     1: zig_dim1,\n",
    "                     2: zig_dim2},\n",
    "        output_arrays={3: (*out_shape, dtype_mapping[np.int32])},\n",
    "        shader=a,\n",
    "        n=(64,64, 1)\n",
    "    )\n",
    "    \n",
    "    # print(\"done!\")\n",
    "    rle_lengths = np.frombuffer(out[3], dtype=np.int32)\n",
    "    # print(f\"rle length is {rle_lengths[:10]}\")\n",
    "    total_length = np.sum(rle_lengths)\n",
    "    # print(f\"total length is {total_length}\")\n",
    "    start_pts = np.zeros_like(rle_lengths)\n",
    "    start_pts[1:] = np.cumsum(rle_lengths[:-1])\n",
    "    # print(f\"start_pts is {start_pts[:10]}\")\n",
    "    \n",
    "    \n",
    "    out = compute_with_buffers(\n",
    "        input_arrays={0: dct_flat,\n",
    "                      1: zig_dim1,\n",
    "                      2:zig_dim2,\n",
    "                      3: start_pts,\n",
    "                      4: rle_lengths},\n",
    "        \n",
    "        output_arrays={5: (total_length, dtype_mapping[np.int32])},\n",
    "        shader=b,\n",
    "        n=(64,64,1)\n",
    "    )\n",
    "%lprun -f my_func my_func()"
   ]
  },
  {
   "cell_type": "code",
   "execution_count": null,
   "id": "978ec478-307b-4917-b958-90dd53ee7578",
   "metadata": {},
   "outputs": [],
   "source": []
  }
 ],
 "metadata": {
  "kernelspec": {
   "display_name": "Python 3 (ipykernel)",
   "language": "python",
   "name": "python3"
  },
  "language_info": {
   "codemirror_mode": {
    "name": "ipython",
    "version": 3
   },
   "file_extension": ".py",
   "mimetype": "text/x-python",
   "name": "python",
   "nbconvert_exporter": "python",
   "pygments_lexer": "ipython3",
   "version": "3.11.9"
  }
 },
 "nbformat": 4,
 "nbformat_minor": 5
}
