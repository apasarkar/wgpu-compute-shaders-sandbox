{
 "cells": [
  {
   "cell_type": "code",
   "execution_count": 1,
   "id": "bf3d68a3-cc14-47c5-86ae-eafd341ff5fa",
   "metadata": {},
   "outputs": [
    {
     "name": "stderr",
     "output_type": "stream",
     "text": [
      "fastplotlib version from git (0.3.0) and __version__ (0.5.0) don't match.\n",
      "rendercanvas version from git (2.0.0) and __version__ (2.0.3) don't match.\n",
      "Unable to find extension: VK_EXT_swapchain_colorspace\n"
     ]
    },
    {
     "data": {
      "application/vnd.jupyter.widget-view+json": {
       "model_id": "7266dc89ee334c5197280da48c2006c6",
       "version_major": 2,
       "version_minor": 0
      },
      "text/plain": [
       "Image(value=b'\\x89PNG\\r\\n\\x1a\\n\\x00\\x00\\x00\\rIHDR\\x00\\x00\\x01,\\x00\\x00\\x007\\x08\\x06\\x00\\x00\\x00\\xb6\\x1bw\\x99\\x…"
      ]
     },
     "metadata": {},
     "output_type": "display_data"
    },
    {
     "data": {
      "text/html": [
       "<b>Available devices:</b><table><tr><th>Valid</th><th>Device</th><th>Type</th><th>Backend</th><th>Driver</th></tr><tr title=\"This adapter can be used with fastplotlib\"><td>✅ (default) </td><td>AMD RADV POLARIS10 (ACO)</td><td>DiscreteGPU</td><td>Vulkan</td><td>Mesa 20.3.5 (ACO)</td></tr><tr title=\"CPU rendering support is limited and mainly for testing purposes\"><td>❗ limited</td><td>llvmpipe (LLVM 11.0.1, 256 bits)</td><td>CPU</td><td>Vulkan</td><td>Mesa 20.3.5 (LLVM 11.0.1)</td></tr><tr title=\"This adapter cannot be used with fastplotlib\"><td>❌</td><td>Radeon RX 570 Series (POLARIS10, DRM 3.40.0, 5.10.0-21-amd64, LLVM 11.0.1)</td><td>Unknown</td><td>OpenGL</td><td>4.6 (Core Profile) Mesa 20.3.5</td></tr></table>"
      ],
      "text/plain": [
       "<IPython.core.display.HTML object>"
      ]
     },
     "metadata": {},
     "output_type": "display_data"
    }
   ],
   "source": [
    "from itertools import product\n",
    "import numpy as np\n",
    "import fastplotlib as fpl\n",
    "import imageio.v3 as iio"
   ]
  },
  {
   "cell_type": "code",
   "execution_count": 2,
   "id": "232a214f-1344-4e3e-a93c-c56e7de0da8b",
   "metadata": {},
   "outputs": [],
   "source": [
    "img = iio.imread(\"imageio:astronaut.png\") @ np.asarray([0.299, 0.587, 0.114])"
   ]
  },
  {
   "cell_type": "code",
   "execution_count": 3,
   "id": "35ef716f-b4a8-49ec-b461-07cb24aeec19",
   "metadata": {},
   "outputs": [
    {
     "data": {
      "application/vnd.jupyter.widget-view+json": {
       "model_id": "89b0fa5d8f9f4866a8386c8f441acd9d",
       "version_major": 2,
       "version_minor": 0
      },
      "text/plain": [
       "RFBOutputContext()"
      ]
     },
     "metadata": {},
     "output_type": "display_data"
    },
    {
     "name": "stderr",
     "output_type": "stream",
     "text": [
      "/home/kushal/repos/fastplotlib/fastplotlib/graphics/features/_base.py:18: UserWarning: casting float64 array to float32\n",
      "  warn(f\"casting {array.dtype} array to float32\")\n"
     ]
    }
   ],
   "source": [
    "iw = fpl.ImageWidget(\n",
    "    [img, np.zeros(img.shape)],\n",
    "    figure_shape=(2, 1),\n",
    "    cmap=\"gray\"\n",
    ")\n",
    "iw.show(sidecar=True)"
   ]
  },
  {
   "cell_type": "code",
   "execution_count": 4,
   "id": "05dd1822-cae6-4a6f-a253-5749381b0eec",
   "metadata": {},
   "outputs": [],
   "source": [
    "\n",
    "block_size = 8\n",
    "\n",
    "I, J = np.meshgrid(np.arange(block_size), np.arange(block_size), indexing=\"ij\")\n",
    "\n",
    "# fig = fpl.Figure(shape=(block_size, block_size), size=(1200, 1200), controller_ids=\"sync\")\n",
    "\n",
    "\n",
    "# def generate_basis():\n",
    "zigzag = np.array(\n",
    "    [\n",
    "        [0, 0],\n",
    "        [0, 1],\n",
    "        [1, 0],\n",
    "        [2, 0],\n",
    "        [1, 1],\n",
    "        [0, 2],\n",
    "        [0, 3],\n",
    "        [1, 2],\n",
    "        [2, 1],\n",
    "        [3, 0],\n",
    "        [4, 0],\n",
    "        [3, 1],\n",
    "        [2, 2],\n",
    "        [1, 3],\n",
    "        [0, 4],\n",
    "        [0, 5],\n",
    "        [1, 4],\n",
    "        [2, 3],\n",
    "        [3, 2],\n",
    "        [4, 1],\n",
    "        [5, 0],\n",
    "        [6, 0],\n",
    "        [5, 1],\n",
    "        [4, 2],\n",
    "        [3, 3],\n",
    "        [2, 4],\n",
    "        [1, 5],\n",
    "        [0, 6],\n",
    "        [0, 7],\n",
    "        [1, 6],\n",
    "        [2, 5],\n",
    "        [3, 4],\n",
    "        [4, 3],\n",
    "        [5, 2],\n",
    "        [6, 1],\n",
    "        [7, 0],\n",
    "        [7, 1],\n",
    "        [6, 2],\n",
    "        [5, 3],\n",
    "        [4, 4],\n",
    "        [3, 5],\n",
    "        [2, 6],\n",
    "        [1, 7],\n",
    "        [2, 7],\n",
    "        [3, 6],\n",
    "        [4, 5],\n",
    "        [5, 4],\n",
    "        [6, 3],\n",
    "        [7, 2],\n",
    "        [7, 3],\n",
    "        [6, 4],\n",
    "        [5, 5],\n",
    "        [4, 6],\n",
    "        [3, 7],\n",
    "        [4, 7],\n",
    "        [5, 6],\n",
    "        [6, 5],\n",
    "        [7, 4],\n",
    "        [7, 5],\n",
    "        [6, 6],\n",
    "        [5, 7],\n",
    "        [6, 7],\n",
    "        [7, 6],\n",
    "        [7, 7],\n",
    "    ]\n",
    ")\n",
    "\n",
    "basis = np.zeros((block_size**2, block_size, block_size))\n",
    "\n",
    "for i, (u, v) in enumerate(zigzag):\n",
    "    c = (\n",
    "        (2 / block_size)\n",
    "        * np.cos((2 * I + 1) * u * np.pi / (2 * block_size))\n",
    "        * np.cos((2 * J + 1) * v * np.pi / (2 * block_size))\n",
    "    )\n",
    "    c /= np.linalg.norm(c)\n",
    "\n",
    "    basis[i] = c"
   ]
  },
  {
   "cell_type": "code",
   "execution_count": 5,
   "id": "810d77dc-c58c-411a-920f-1a57af8c225f",
   "metadata": {},
   "outputs": [],
   "source": [
    "rs = iw.managed_graphics[0].add_rectangle_selector(edge_color=\"w\", edge_thickness=1.0, vertex_color=\"w\")"
   ]
  },
  {
   "cell_type": "code",
   "execution_count": 6,
   "id": "b34c7ad3-2435-48a8-b2b3-a18410c1d6b5",
   "metadata": {},
   "outputs": [],
   "source": [
    "from tqdm import tqdm"
   ]
  },
  {
   "cell_type": "code",
   "execution_count": 10,
   "id": "cf66cef1-27c5-481b-9183-c9b80d9d39d4",
   "metadata": {},
   "outputs": [
    {
     "data": {
      "text/plain": [
       "array([[[ 0.125     ,  0.125     ,  0.125     , ...,  0.125     ,\n",
       "          0.125     ,  0.125     ],\n",
       "        [ 0.125     ,  0.125     ,  0.125     , ...,  0.125     ,\n",
       "          0.125     ,  0.125     ],\n",
       "        [ 0.125     ,  0.125     ,  0.125     , ...,  0.125     ,\n",
       "          0.125     ,  0.125     ],\n",
       "        ...,\n",
       "        [ 0.125     ,  0.125     ,  0.125     , ...,  0.125     ,\n",
       "          0.125     ,  0.125     ],\n",
       "        [ 0.125     ,  0.125     ,  0.125     , ...,  0.125     ,\n",
       "          0.125     ,  0.125     ],\n",
       "        [ 0.125     ,  0.125     ,  0.125     , ...,  0.125     ,\n",
       "          0.125     ,  0.125     ]],\n",
       "\n",
       "       [[ 0.17337998,  0.14698445,  0.09821187, ..., -0.09821187,\n",
       "         -0.14698445, -0.17337998],\n",
       "        [ 0.17337998,  0.14698445,  0.09821187, ..., -0.09821187,\n",
       "         -0.14698445, -0.17337998],\n",
       "        [ 0.17337998,  0.14698445,  0.09821187, ..., -0.09821187,\n",
       "         -0.14698445, -0.17337998],\n",
       "        ...,\n",
       "        [ 0.17337998,  0.14698445,  0.09821187, ..., -0.09821187,\n",
       "         -0.14698445, -0.17337998],\n",
       "        [ 0.17337998,  0.14698445,  0.09821187, ..., -0.09821187,\n",
       "         -0.14698445, -0.17337998],\n",
       "        [ 0.17337998,  0.14698445,  0.09821187, ..., -0.09821187,\n",
       "         -0.14698445, -0.17337998]],\n",
       "\n",
       "       [[ 0.17337998,  0.17337998,  0.17337998, ...,  0.17337998,\n",
       "          0.17337998,  0.17337998],\n",
       "        [ 0.14698445,  0.14698445,  0.14698445, ...,  0.14698445,\n",
       "          0.14698445,  0.14698445],\n",
       "        [ 0.09821187,  0.09821187,  0.09821187, ...,  0.09821187,\n",
       "          0.09821187,  0.09821187],\n",
       "        ...,\n",
       "        [-0.09821187, -0.09821187, -0.09821187, ..., -0.09821187,\n",
       "         -0.09821187, -0.09821187],\n",
       "        [-0.14698445, -0.14698445, -0.14698445, ..., -0.14698445,\n",
       "         -0.14698445, -0.14698445],\n",
       "        [-0.17337998, -0.17337998, -0.17337998, ..., -0.17337998,\n",
       "         -0.17337998, -0.17337998]],\n",
       "\n",
       "       ...,\n",
       "\n",
       "       [[ 0.01866446, -0.05315188,  0.07954741, ..., -0.07954741,\n",
       "          0.05315188, -0.01866446],\n",
       "        [-0.04505999,  0.12831999, -0.19204444, ...,  0.19204444,\n",
       "         -0.12831999,  0.04505999],\n",
       "        [ 0.04505999, -0.12831999,  0.19204444, ..., -0.19204444,\n",
       "          0.12831999, -0.04505999],\n",
       "        ...,\n",
       "        [ 0.04505999, -0.12831999,  0.19204444, ..., -0.19204444,\n",
       "          0.12831999, -0.04505999],\n",
       "        [-0.04505999,  0.12831999, -0.19204444, ...,  0.19204444,\n",
       "         -0.12831999,  0.04505999],\n",
       "        [ 0.01866446, -0.05315188,  0.07954741, ..., -0.07954741,\n",
       "          0.05315188, -0.01866446]],\n",
       "\n",
       "       [[ 0.01866446, -0.04505999,  0.04505999, ...,  0.04505999,\n",
       "         -0.04505999,  0.01866446],\n",
       "        [-0.05315188,  0.12831999, -0.12831999, ..., -0.12831999,\n",
       "          0.12831999, -0.05315188],\n",
       "        [ 0.07954741, -0.19204444,  0.19204444, ...,  0.19204444,\n",
       "         -0.19204444,  0.07954741],\n",
       "        ...,\n",
       "        [-0.07954741,  0.19204444, -0.19204444, ..., -0.19204444,\n",
       "          0.19204444, -0.07954741],\n",
       "        [ 0.05315188, -0.12831999,  0.12831999, ...,  0.12831999,\n",
       "         -0.12831999,  0.05315188],\n",
       "        [-0.01866446,  0.04505999, -0.04505999, ..., -0.04505999,\n",
       "          0.04505999, -0.01866446]],\n",
       "\n",
       "       [[ 0.00951506, -0.02709659,  0.04055292, ..., -0.04055292,\n",
       "          0.02709659, -0.00951506],\n",
       "        [-0.02709659,  0.07716457, -0.11548494, ...,  0.11548494,\n",
       "         -0.07716457,  0.02709659],\n",
       "        [ 0.04055292, -0.11548494,  0.17283543, ..., -0.17283543,\n",
       "          0.11548494, -0.04055292],\n",
       "        ...,\n",
       "        [-0.04055292,  0.11548494, -0.17283543, ...,  0.17283543,\n",
       "         -0.11548494,  0.04055292],\n",
       "        [ 0.02709659, -0.07716457,  0.11548494, ..., -0.11548494,\n",
       "          0.07716457, -0.02709659],\n",
       "        [-0.00951506,  0.02709659, -0.04055292, ...,  0.04055292,\n",
       "         -0.02709659,  0.00951506]]])"
      ]
     },
     "execution_count": 10,
     "metadata": {},
     "output_type": "execute_result"
    }
   ],
   "source": [
    "basis"
   ]
  },
  {
   "cell_type": "code",
   "execution_count": 12,
   "id": "6a674f5f-fe9e-4c2e-b330-dbbbf32a727e",
   "metadata": {},
   "outputs": [
    {
     "name": "stderr",
     "output_type": "stream",
     "text": [
      "100%|████████████████████████████████████████████████████████████████████| 4096/4096 [00:05<00:00, 781.32it/s]\n"
     ]
    }
   ],
   "source": [
    "block_indices = list(product(*(range(np.ceil(dim / block_size).astype(int)) for dim in img.shape)))\n",
    "for u, v in tqdm(block_indices):\n",
    "    row_start = u * block_size\n",
    "    row_stop = row_start + block_size\n",
    "    \n",
    "    col_start = v * block_size\n",
    "    col_stop = col_start + block_size\n",
    "    r_slice, c_slice = slice(row_start, row_stop), slice(col_start, col_stop)\n",
    "    \n",
    "    block = img[r_slice, c_slice]\n",
    "    \n",
    "    n = 15\n",
    "    projection = np.zeros((block_size, block_size))\n",
    "    for i in range(n):\n",
    "        projection += basis[i] * (basis[i] * block).sum()\n",
    "\n",
    "    iw.managed_graphics[1].data[r_slice, c_slice] = projection\n",
    "    iw.managed_graphics[1].reset_vmin_vmax()\n",
    "    iw.managed_graphics[1].vmin = 0"
   ]
  }
 ],
 "metadata": {
  "kernelspec": {
   "display_name": "Python 3 (ipykernel)",
   "language": "python",
   "name": "python3"
  },
  "language_info": {
   "codemirror_mode": {
    "name": "ipython",
    "version": 3
   },
   "file_extension": ".py",
   "mimetype": "text/x-python",
   "name": "python",
   "nbconvert_exporter": "python",
   "pygments_lexer": "ipython3",
   "version": "3.11.3"
  }
 },
 "nbformat": 4,
 "nbformat_minor": 5
}
